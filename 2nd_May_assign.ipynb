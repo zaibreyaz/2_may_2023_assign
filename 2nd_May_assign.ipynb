{
 "cells": [
  {
   "cell_type": "code",
   "execution_count": null,
   "id": "133070d3-76d9-4dc2-a2a8-6a210aafca68",
   "metadata": {},
   "outputs": [],
   "source": [
    "\"\"\"Q1. What is anomaly detection and what is its purpose?\n",
    "\n",
    "    Ans: Anomaly detection is a technique used to identify patterns or data points that deviate significantly from normal behavior. \n",
    "         Its purpose is to detect unusual or suspicious observations that may indicate errors, fraud, or abnormalities in various domains \n",
    "         such as cybersecurity, finance, and industrial monitoring.\n",
    "\"\"\""
   ]
  },
  {
   "cell_type": "code",
   "execution_count": null,
   "id": "3b9d6e77-b4b7-4d77-bf04-df2040eec4cd",
   "metadata": {},
   "outputs": [],
   "source": [
    "\"\"\"Q2. What are the key challenges in anomaly detection?\n",
    "\n",
    "    Ans: The key challenges in anomaly detection include identifying and distinguishing abnormal patterns from normal ones, dealing with \n",
    "         high-dimensional data, handling imbalanced datasets where anomalies are rare, adapting to changing behaviors and evolving anomalies, \n",
    "         and minimizing false positives and false negatives.\n",
    "\"\"\""
   ]
  },
  {
   "cell_type": "code",
   "execution_count": null,
   "id": "3a7b3cea-a145-4df5-93b2-e70613b744fb",
   "metadata": {},
   "outputs": [],
   "source": [
    "\"\"\"Q3. How does unsupervised anomaly detection differ from supervised anomaly detection?\n",
    "\n",
    "    Ans: Unsupervised anomaly detection relies on identifying anomalies in data without prior knowledge or labeled examples of anomalies. \n",
    "         It discovers abnormal patterns based on the inherent structure of the data. Supervised anomaly detection, on the other hand, requires \n",
    "         labeled examples of anomalies to train a model that can classify new instances as normal or abnormal.\n",
    "\"\"\""
   ]
  },
  {
   "cell_type": "code",
   "execution_count": null,
   "id": "1829354e-5295-4a6c-8430-7b49ef3f8c9a",
   "metadata": {},
   "outputs": [],
   "source": [
    "\"\"\"Q4. What are the main categories of anomaly detection algorithms?\n",
    "\n",
    "    Ans: The main categories of anomaly detection algorithms are statistical-based methods that model normal data distribution and identify \n",
    "         deviations, proximity-based methods that measure the distance or similarity between data points, and machine learning-based methods \n",
    "         that use techniques like clustering, classification, or autoencoders to detect anomalies.\n",
    "\"\"\""
   ]
  },
  {
   "cell_type": "code",
   "execution_count": null,
   "id": "676e7023-598c-41e4-bfe7-3e2676213dca",
   "metadata": {},
   "outputs": [],
   "source": [
    "\"\"\"Q5. What are the main assumptions made by distance-based anomaly detection methods?\n",
    "\n",
    "    Ans: Distance-based anomaly detection methods assume that anomalies are located far away from normal data points in terms of distance or \n",
    "         similarity measures. \n",
    "\"\"\""
   ]
  },
  {
   "cell_type": "code",
   "execution_count": null,
   "id": "c9826d0d-9709-4a1c-b7c0-d921e32e9e42",
   "metadata": {},
   "outputs": [],
   "source": [
    "\"\"\"Q6. How does the LOF algorithm compute anomaly scores?\n",
    "\n",
    "    Ans: The LOF (Local Outlier Factor) algorithm computes anomaly scores by comparing the local density of a data point with the densities of \n",
    "         its neighbors. It calculates a score for each point based on the ratio of the average density of its neighbors to its own density. \n",
    "         Higher scores indicate higher likelihood of being an anomaly.\n",
    "\"\"\""
   ]
  },
  {
   "cell_type": "code",
   "execution_count": null,
   "id": "e866da2d-487e-426f-854a-4a529b11a41a",
   "metadata": {},
   "outputs": [],
   "source": [
    "\"\"\"Q7. What are the key parameters of the Isolation Forest algorithm?\n",
    "\n",
    "    Ans: The key parameters of the Isolation Forest algorithm are the number of trees to build and the maximum tree depth. \n",
    "\"\"\""
   ]
  },
  {
   "cell_type": "code",
   "execution_count": null,
   "id": "326b75f6-fdb3-4d21-b170-c2e5312b8894",
   "metadata": {},
   "outputs": [],
   "source": [
    "\"\"\"Q8. If a data point has only 2 neighbours of the same class within a radius of 0.5, what is its anomaly score\n",
    "using KNN with K=10?\n",
    "\n",
    "    Ans: To calculate the anomaly score using KNN with K=10, we need to consider the proportion of neighbors that belong to a different class. \n",
    "         In this case, since the data point has only 2 neighbors of the same class within a radius of 0.5, it means that all the neighbors \n",
    "         belong to the same class. Therefore, the anomaly score would be 0, indicating that the data point is not considered an anomaly based \n",
    "         on the KNN algorithm with K=10.\n",
    "\"\"\""
   ]
  },
  {
   "cell_type": "code",
   "execution_count": null,
   "id": "4382028a-72f1-4239-ab83-9cbb318adf55",
   "metadata": {},
   "outputs": [],
   "source": [
    "\"\"\"Q9. Using the Isolation Forest algorithm with 100 trees and a dataset of 3000 data points, what is the\n",
    "anomaly score for a data point that has an average path length of 5.0 compared to the average path\n",
    "length of the trees?\n",
    "\n",
    "    Ans: The anomaly score for a data point with an average path length of 5.0 compared to the average path length of the trees in the \n",
    "         Isolation Forest algorithm would be calculated as the inverse of the average path length, which is 1/5.0 = 0.2. \n",
    "         Thus, the anomaly score for the data point would be 0.2. Also in order to clearly determine the anomaly we need additional information \n",
    "         about the dataset.\n",
    "\"\"\""
   ]
  }
 ],
 "metadata": {
  "kernelspec": {
   "display_name": "Python 3 (ipykernel)",
   "language": "python",
   "name": "python3"
  },
  "language_info": {
   "codemirror_mode": {
    "name": "ipython",
    "version": 3
   },
   "file_extension": ".py",
   "mimetype": "text/x-python",
   "name": "python",
   "nbconvert_exporter": "python",
   "pygments_lexer": "ipython3",
   "version": "3.10.8"
  }
 },
 "nbformat": 4,
 "nbformat_minor": 5
}
